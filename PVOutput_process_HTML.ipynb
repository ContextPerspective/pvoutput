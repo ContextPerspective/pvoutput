{
 "cells": [
  {
   "cell_type": "code",
   "execution_count": 33,
   "metadata": {},
   "outputs": [],
   "source": [
    "import os\n",
    "import pandas as pd\n",
    "import re\n",
    "import time\n",
    "from bs4 import BeautifulSoup"
   ]
  },
  {
   "cell_type": "code",
   "execution_count": 4,
   "metadata": {},
   "outputs": [],
   "source": [
    "COUNTRY = 'UK'\n",
    "HTML_FILE_PATH = '/home/jack/data/pvoutput.org/raw'"
   ]
  },
  {
   "cell_type": "code",
   "execution_count": 212,
   "metadata": {},
   "outputs": [],
   "source": [
    "def process_system_size_col(soup):\n",
    "    pv_system_size_col = soup.find_all('a', href=re.compile('display\\.jsp\\?sid='))\n",
    "    \n",
    "    metadata = []\n",
    "    for row in pv_system_size_col:\n",
    "        metadata_for_row = {}\n",
    "        # Get system ID\n",
    "        href = row.attrs['href']\n",
    "        p = re.compile('^display\\.jsp\\?sid=(\\d+)$')\n",
    "        href_match = p.match(href)\n",
    "        metadata_for_row['system_id'] = href_match.group(1)\n",
    "        \n",
    "        # Process title (lots of metadata in here!)\n",
    "        title, title_meta = row.attrs['title'].split('|')\n",
    "        \n",
    "        # Name and capacity\n",
    "        p = re.compile('(.*) (\\d+\\.\\d+kW)')\n",
    "        title_match = p.match(title)\n",
    "        metadata_for_row['system_name'] = title_match.group(1)\n",
    "        metadata_for_row['system_capacity'] = title_match.group(2)\n",
    "        \n",
    "        # Other key-value pairs:\n",
    "        key_value = title_meta.split('<br/>')\n",
    "        key_value_dict = {}\n",
    "        for line in key_value:\n",
    "            key_value_split = line.split(':')\n",
    "            key = key_value_split[0].strip()\n",
    "            # Some values have a colon(!)\n",
    "            value = ':'.join(key_value_split[1:]).strip()\n",
    "            key_value_dict[key] = value\n",
    "        metadata_for_row.update(key_value_dict)\n",
    "        \n",
    "        # Some cleaning\n",
    "        # Remove <img ...> from Location\n",
    "        location = metadata_for_row['Location']\n",
    "        p = re.compile('(<img .*\\>)?(.*)')\n",
    "        img_groups = p.search(location).groups()\n",
    "        if img_groups[0] is not None:\n",
    "            metadata_for_row['Location'] = img_groups[1].strip()\n",
    "        \n",
    "        metadata.append(metadata_for_row)\n",
    "        \n",
    "    data = pd.DataFrame(metadata).set_index('system_id')\n",
    "    return data\n",
    "\n",
    "\n",
    "def process_output_col(soup, index=None):\n",
    "    outputs_col = soup.find_all(text=re.compile('\\d Days'))\n",
    "    return pd.Series(outputs_col, name='Outputs', index=index)\n",
    "\n",
    "\n",
    "def process_generation_and_average_cols(soup, index=None):\n",
    "    generation_and_average_cols = soup.find_all(text=re.compile('\\d[Mk]Wh$'))\n",
    "    generation_col = generation_and_average_cols[0::2]\n",
    "    average_col = generation_and_average_cols[1::2]\n",
    "    return pd.DataFrame({\n",
    "        'Generation': generation_col,\n",
    "        'Average': average_col\n",
    "    }, index=index)\n",
    "\n",
    "def process_efficiency_col(soup, index=None):\n",
    "    efficiency_col = soup.find_all(text=re.compile('\\dkWh/kW'))\n",
    "    return pd.Series(efficiency_col, name='Efficiency', index=index)"
   ]
  },
  {
   "cell_type": "code",
   "execution_count": 209,
   "metadata": {},
   "outputs": [],
   "source": [
    "def process_all_metadata(soup):\n",
    "    pv_system_size_metadata = process_system_size_col(soup)\n",
    "    index = pv_system_size_metadata.index\n",
    "\n",
    "    pv_systems_metadata = [\n",
    "        pv_system_size_metadata,\n",
    "        process_output_col(soup, index),\n",
    "        process_generation_and_average_cols(soup, index),\n",
    "        process_efficiency_col(soup, index)\n",
    "    ]\n",
    "\n",
    "    return pd.concat(pv_systems_metadata, axis='columns')"
   ]
  },
  {
   "cell_type": "code",
   "execution_count": 210,
   "metadata": {},
   "outputs": [],
   "source": [
    "def get_soup(page):\n",
    "    filename = os.path.join(HTML_FILE_PATH, 'pvoutput_{}_page_{:03d}.html'.format(COUNTRY, page))\n",
    "    with open(filename, mode='r') as fh:\n",
    "        soup = BeautifulSoup(fh, 'html.parser')\n",
    "    return soup"
   ]
  },
  {
   "cell_type": "code",
   "execution_count": 214,
   "metadata": {},
   "outputs": [
    {
     "name": "stdout",
     "output_type": "stream",
     "text": [
      " 127"
     ]
    }
   ],
   "source": [
    "all_metadata = []\n",
    "for page in range(128):\n",
    "    print('\\r', page, end='', flush=True)\n",
    "    soup = get_soup(page)\n",
    "    all_metadata.append(process_all_metadata(soup))"
   ]
  },
  {
   "cell_type": "code",
   "execution_count": 217,
   "metadata": {},
   "outputs": [],
   "source": [
    "all_metadata_df = pd.concat(all_metadata)"
   ]
  },
  {
   "cell_type": "code",
   "execution_count": 220,
   "metadata": {},
   "outputs": [
    {
     "data": {
      "text/plain": [
       "2559"
      ]
     },
     "execution_count": 220,
     "metadata": {},
     "output_type": "execute_result"
    }
   ],
   "source": [
    "len(all_metadata_df)"
   ]
  },
  {
   "cell_type": "code",
   "execution_count": 221,
   "metadata": {},
   "outputs": [
    {
     "data": {
      "text/html": [
       "<div>\n",
       "<style scoped>\n",
       "    .dataframe tbody tr th:only-of-type {\n",
       "        vertical-align: middle;\n",
       "    }\n",
       "\n",
       "    .dataframe tbody tr th {\n",
       "        vertical-align: top;\n",
       "    }\n",
       "\n",
       "    .dataframe thead th {\n",
       "        text-align: right;\n",
       "    }\n",
       "</style>\n",
       "<table border=\"1\" class=\"dataframe\">\n",
       "  <thead>\n",
       "    <tr style=\"text-align: right;\">\n",
       "      <th></th>\n",
       "      <th>Array Tilt</th>\n",
       "      <th>Inverter</th>\n",
       "      <th>Location</th>\n",
       "      <th>Orientation</th>\n",
       "      <th>Panels</th>\n",
       "      <th>Shade</th>\n",
       "      <th>system_capacity</th>\n",
       "      <th>system_name</th>\n",
       "      <th>Outputs</th>\n",
       "      <th>Generation</th>\n",
       "      <th>Average</th>\n",
       "      <th>Efficiency</th>\n",
       "    </tr>\n",
       "    <tr>\n",
       "      <th>system_id</th>\n",
       "      <th></th>\n",
       "      <th></th>\n",
       "      <th></th>\n",
       "      <th></th>\n",
       "      <th></th>\n",
       "      <th></th>\n",
       "      <th></th>\n",
       "      <th></th>\n",
       "      <th></th>\n",
       "      <th></th>\n",
       "      <th></th>\n",
       "      <th></th>\n",
       "    </tr>\n",
       "  </thead>\n",
       "  <tbody>\n",
       "    <tr>\n",
       "      <th>26965</th>\n",
       "      <td>11.0°</td>\n",
       "      <td>Enphase M215</td>\n",
       "      <td>United Kingdom CV47</td>\n",
       "      <td>South 0.0°</td>\n",
       "      <td>336x250W Q Cells Pro-G3 250</td>\n",
       "      <td>Low</td>\n",
       "      <td>84.000kW</td>\n",
       "      <td>mfl_phc</td>\n",
       "      <td>1,813 Days</td>\n",
       "      <td>399.238MWh</td>\n",
       "      <td>220.208kWh</td>\n",
       "      <td>2.654kWh/kW</td>\n",
       "    </tr>\n",
       "    <tr>\n",
       "      <th>24768</th>\n",
       "      <td>NaN</td>\n",
       "      <td>aurora trio</td>\n",
       "      <td>United Kingdom OX7</td>\n",
       "      <td>South 180.0°</td>\n",
       "      <td>1050x240W qidong</td>\n",
       "      <td>No</td>\n",
       "      <td>252.000kW</td>\n",
       "      <td>mfl_qfa</td>\n",
       "      <td>446 Days</td>\n",
       "      <td>307.029MWh</td>\n",
       "      <td>688.405kWh</td>\n",
       "      <td>2.732kWh/kW</td>\n",
       "    </tr>\n",
       "    <tr>\n",
       "      <th>11542</th>\n",
       "      <td>15.0°</td>\n",
       "      <td>SMA TRI-Power 1700 TL</td>\n",
       "      <td>United Kingdom PE11</td>\n",
       "      <td>South 180.0°</td>\n",
       "      <td>200x250W Emmvee ES 230 M60 B</td>\n",
       "      <td>No</td>\n",
       "      <td>50.000kW</td>\n",
       "      <td>Wray Farms Solar System</td>\n",
       "      <td>2,437 Days</td>\n",
       "      <td>293.684MWh</td>\n",
       "      <td>120.510kWh</td>\n",
       "      <td>2.477kWh/kW</td>\n",
       "    </tr>\n",
       "    <tr>\n",
       "      <th>66991</th>\n",
       "      <td>40.0°</td>\n",
       "      <td>Unknown</td>\n",
       "      <td>United Kingdom HR8</td>\n",
       "      <td>South 180.0° / South West 225.0°</td>\n",
       "      <td>152x325W + 80x325W Unknown</td>\n",
       "      <td>No</td>\n",
       "      <td>75.400kW</td>\n",
       "      <td>Ledbury Community Hospital</td>\n",
       "      <td>1,434 Days</td>\n",
       "      <td>279.902MWh</td>\n",
       "      <td>195.190kWh</td>\n",
       "      <td>2.603kWh/kW</td>\n",
       "    </tr>\n",
       "    <tr>\n",
       "      <th>5116</th>\n",
       "      <td>15.0°</td>\n",
       "      <td>Fronius CL36; Datamanager 2.0</td>\n",
       "      <td>United Kingdom OX7</td>\n",
       "      <td>South 180.0°</td>\n",
       "      <td>182x235W Q.Base-G2 235</td>\n",
       "      <td>No</td>\n",
       "      <td>42.770kW</td>\n",
       "      <td>mfl_scf</td>\n",
       "      <td>2,538 Days</td>\n",
       "      <td>267.470MWh</td>\n",
       "      <td>105.386kWh</td>\n",
       "      <td>2.493kWh/kW</td>\n",
       "    </tr>\n",
       "  </tbody>\n",
       "</table>\n",
       "</div>"
      ],
      "text/plain": [
       "          Array Tilt                       Inverter             Location  \\\n",
       "system_id                                                                  \n",
       "26965          11.0°                   Enphase M215  United Kingdom CV47   \n",
       "24768            NaN                    aurora trio   United Kingdom OX7   \n",
       "11542          15.0°          SMA TRI-Power 1700 TL  United Kingdom PE11   \n",
       "66991          40.0°                        Unknown   United Kingdom HR8   \n",
       "5116           15.0°  Fronius CL36; Datamanager 2.0   United Kingdom OX7   \n",
       "\n",
       "                                Orientation                        Panels  \\\n",
       "system_id                                                                   \n",
       "26965                            South 0.0°   336x250W Q Cells Pro-G3 250   \n",
       "24768                          South 180.0°              1050x240W qidong   \n",
       "11542                          South 180.0°  200x250W Emmvee ES 230 M60 B   \n",
       "66991      South 180.0° / South West 225.0°    152x325W + 80x325W Unknown   \n",
       "5116                           South 180.0°        182x235W Q.Base-G2 235   \n",
       "\n",
       "          Shade system_capacity                 system_name     Outputs  \\\n",
       "system_id                                                                 \n",
       "26965       Low        84.000kW                     mfl_phc  1,813 Days   \n",
       "24768        No       252.000kW                     mfl_qfa    446 Days   \n",
       "11542        No        50.000kW     Wray Farms Solar System  2,437 Days   \n",
       "66991        No        75.400kW  Ledbury Community Hospital  1,434 Days   \n",
       "5116         No        42.770kW                     mfl_scf  2,538 Days   \n",
       "\n",
       "           Generation     Average   Efficiency  \n",
       "system_id                                       \n",
       "26965      399.238MWh  220.208kWh  2.654kWh/kW  \n",
       "24768      307.029MWh  688.405kWh  2.732kWh/kW  \n",
       "11542      293.684MWh  120.510kWh  2.477kWh/kW  \n",
       "66991      279.902MWh  195.190kWh  2.603kWh/kW  \n",
       "5116       267.470MWh  105.386kWh  2.493kWh/kW  "
      ]
     },
     "execution_count": 221,
     "metadata": {},
     "output_type": "execute_result"
    }
   ],
   "source": [
    "all_metadata_df.head()"
   ]
  },
  {
   "cell_type": "code",
   "execution_count": null,
   "metadata": {},
   "outputs": [],
   "source": [
    "all_metadata_df.index = pd.to_numeric(all_metadata_df.index)"
   ]
  },
  {
   "cell_type": "code",
   "execution_count": 238,
   "metadata": {},
   "outputs": [],
   "source": [
    "# Massage text data\n",
    "# Array tilt\n",
    "array_tilt = all_metadata_df['Array Tilt'].str.replace('°', '').str.split('/', expand=True)\n",
    "array_tilt.rename({0: 'system_1_tilt_degrees', 1: 'system_2_tilt_degrees'}, axis='columns', inplace=True)\n",
    "array_tilt = array_tilt.astype(float)"
   ]
  },
  {
   "cell_type": "code",
   "execution_count": null,
   "metadata": {},
   "outputs": [],
   "source": [
    "all_metadata_df = pd.concat([all_metadata_df, array_tilt], axis='columns')"
   ]
  },
  {
   "cell_type": "code",
   "execution_count": 252,
   "metadata": {},
   "outputs": [],
   "source": [
    "# Outputs\n",
    "all_metadata_df['Outputs'] = pd.to_timedelta(all_metadata_df['Outputs'])"
   ]
  },
  {
   "cell_type": "code",
   "execution_count": 290,
   "metadata": {},
   "outputs": [
    {
     "data": {
      "text/plain": [
       "True"
      ]
     },
     "execution_count": 290,
     "metadata": {},
     "output_type": "execute_result"
    }
   ],
   "source": [
    "# Do all system capacity columns include kW?  Yes they do!\n",
    "all_metadata_df['system_capacity'].str.contains('kW').sum() == len(all_metadata_df)"
   ]
  },
  {
   "cell_type": "code",
   "execution_count": 270,
   "metadata": {},
   "outputs": [],
   "source": [
    "all_metadata_df['system_capacity_kw'] = pd.to_numeric(\n",
    "    all_metadata_df['system_capacity'].str.replace('kW', ''))"
   ]
  },
  {
   "cell_type": "code",
   "execution_count": 284,
   "metadata": {},
   "outputs": [],
   "source": [
    "all_metadata_df['efficiency_kWh_per_kW'] = pd.to_numeric(\n",
    "    all_metadata_df['Efficiency'].str.strip('kWh/kW'))"
   ]
  },
  {
   "cell_type": "code",
   "execution_count": 299,
   "metadata": {},
   "outputs": [],
   "source": [
    "all_metadata_df.to_hdf(\n",
    "    '/home/jack/data/pvoutput.org/processed/UK_PV_listing_metadata.hdf', \n",
    "    key='metadata',\n",
    "    mode='w',\n",
    "    format='table',\n",
    "    complevel=9\n",
    ")"
   ]
  }
 ],
 "metadata": {
  "kernelspec": {
   "display_name": "Python 3",
   "language": "python",
   "name": "python3"
  },
  "language_info": {
   "codemirror_mode": {
    "name": "ipython",
    "version": 3
   },
   "file_extension": ".py",
   "mimetype": "text/x-python",
   "name": "python",
   "nbconvert_exporter": "python",
   "pygments_lexer": "ipython3",
   "version": "3.7.3"
  }
 },
 "nbformat": 4,
 "nbformat_minor": 2
}
