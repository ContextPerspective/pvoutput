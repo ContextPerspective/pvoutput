{
 "cells": [
  {
   "cell_type": "code",
   "execution_count": 1,
   "metadata": {},
   "outputs": [],
   "source": [
    "import os\n",
    "import pandas as pd\n",
    "from pvoutput import *"
   ]
  },
  {
   "cell_type": "markdown",
   "metadata": {},
   "source": [
    "## How to setup this notebook\n",
    "\n",
    "1. Register with PVOutput.org\n",
    "    * As well as an API key, you *need* a SystemId to use the API.  (If you don't include a SystemId, then you'll get a \"401 Unauthorized\" response from the PVOutput.org API).  If you don't have a PV system, click the \"energy consumption only\" box when setting a system id on PVOutput.org.\n",
    "    * Set the environment variables PVOUTPUT_APIKEY and PVOUTPUT_SYSTEMID (on Linux, put `EXPORT PVOUTPUT_APIKEY=\"API KEY\"` etc. into `.profile`, log out, and log back in again)\n"
   ]
  },
  {
   "cell_type": "markdown",
   "metadata": {},
   "source": [
    "\n",
    "\n",
    "## Good systems\n",
    "Good system: https://pvoutput.org/intraday.jsp?id=68872&sid=61190\n",
    "\n",
    "## API docs\n",
    "The following HTTP Headers need to be set to authenticate the service request.\n",
    "\n",
    "* X-Pvoutput-Apikey\n",
    "* X-Pvoutput-SystemId\n",
    "\n",
    "### Useful sections in API docs\n",
    "* [API Search](https://pvoutput.org/help.html#api-search)\n",
    "* [Get Status](https://pvoutput.org/help.html#api-getstatus) - used for getting live and historical PV power output (and other data)\n",
    "\n",
    "\n"
   ]
  },
  {
   "cell_type": "markdown",
   "metadata": {},
   "source": [
    "## Search for PV systems"
   ]
  },
  {
   "cell_type": "code",
   "execution_count": 2,
   "metadata": {},
   "outputs": [],
   "source": [
    "pv_systems = pv_system_search(query='5km', lat_lon='52.0668589,-1.3484038')"
   ]
  },
  {
   "cell_type": "code",
   "execution_count": 3,
   "metadata": {},
   "outputs": [
    {
     "data": {
      "text/html": [
       "<div>\n",
       "<style scoped>\n",
       "    .dataframe tbody tr th:only-of-type {\n",
       "        vertical-align: middle;\n",
       "    }\n",
       "\n",
       "    .dataframe tbody tr th {\n",
       "        vertical-align: top;\n",
       "    }\n",
       "\n",
       "    .dataframe thead th {\n",
       "        text-align: right;\n",
       "    }\n",
       "</style>\n",
       "<table border=\"1\" class=\"dataframe\">\n",
       "  <thead>\n",
       "    <tr style=\"text-align: right;\">\n",
       "      <th></th>\n",
       "      <th>system_name</th>\n",
       "      <th>system_size_watts</th>\n",
       "      <th>postcode</th>\n",
       "      <th>orientation</th>\n",
       "      <th>num_outputs</th>\n",
       "      <th>last_output</th>\n",
       "      <th>panel</th>\n",
       "      <th>inverter</th>\n",
       "      <th>distance_km</th>\n",
       "      <th>latitude</th>\n",
       "      <th>longitude</th>\n",
       "    </tr>\n",
       "    <tr>\n",
       "      <th>system_id</th>\n",
       "      <th></th>\n",
       "      <th></th>\n",
       "      <th></th>\n",
       "      <th></th>\n",
       "      <th></th>\n",
       "      <th></th>\n",
       "      <th></th>\n",
       "      <th></th>\n",
       "      <th></th>\n",
       "      <th></th>\n",
       "      <th></th>\n",
       "    </tr>\n",
       "  </thead>\n",
       "  <tbody>\n",
       "    <tr>\n",
       "      <th>61190</th>\n",
       "      <td>Banbury OX16</td>\n",
       "      <td>5600</td>\n",
       "      <td>United Kingdom OX16</td>\n",
       "      <td>S</td>\n",
       "      <td>338</td>\n",
       "      <td>Yesterday</td>\n",
       "      <td>SunPower</td>\n",
       "      <td>SolarEdge 5K HD</td>\n",
       "      <td>1.0</td>\n",
       "      <td>52.06</td>\n",
       "      <td>-1.34</td>\n",
       "    </tr>\n",
       "    <tr>\n",
       "      <th>62751</th>\n",
       "      <td>Banbury PW2</td>\n",
       "      <td>5600</td>\n",
       "      <td>United Kingdom OX16</td>\n",
       "      <td>S</td>\n",
       "      <td>83</td>\n",
       "      <td>26 weeks ago</td>\n",
       "      <td>Sunpower</td>\n",
       "      <td>Energy Monitor</td>\n",
       "      <td>1.0</td>\n",
       "      <td>52.06</td>\n",
       "      <td>-1.34</td>\n",
       "    </tr>\n",
       "    <tr>\n",
       "      <th>38924</th>\n",
       "      <td>CotonMacy Solar</td>\n",
       "      <td>3900</td>\n",
       "      <td>United Kingdom OX16</td>\n",
       "      <td>S</td>\n",
       "      <td>1467</td>\n",
       "      <td>Yesterday</td>\n",
       "      <td>LG LG300 N1C-B3 LG</td>\n",
       "      <td>Enphase m250</td>\n",
       "      <td>1.0</td>\n",
       "      <td>52.06</td>\n",
       "      <td>-1.34</td>\n",
       "    </tr>\n",
       "    <tr>\n",
       "      <th>23236</th>\n",
       "      <td>Tedsolar</td>\n",
       "      <td>3000</td>\n",
       "      <td>United Kingdom OX16</td>\n",
       "      <td>SE</td>\n",
       "      <td>691</td>\n",
       "      <td>206 weeks ago</td>\n",
       "      <td>Renesolar</td>\n",
       "      <td>Samil SR3300tl</td>\n",
       "      <td>1.0</td>\n",
       "      <td>52.06</td>\n",
       "      <td>-1.34</td>\n",
       "    </tr>\n",
       "    <tr>\n",
       "      <th>40100</th>\n",
       "      <td>100061786</td>\n",
       "      <td>3900</td>\n",
       "      <td>United Kingdom OX17</td>\n",
       "      <td>S</td>\n",
       "      <td>62</td>\n",
       "      <td>184 weeks ago</td>\n",
       "      <td>Caymax SSE195</td>\n",
       "      <td>Enecsys SMI-S240W</td>\n",
       "      <td>4.7</td>\n",
       "      <td>52.07</td>\n",
       "      <td>-1.28</td>\n",
       "    </tr>\n",
       "    <tr>\n",
       "      <th>36566</th>\n",
       "      <td>CartwrightRoad</td>\n",
       "      <td>3900</td>\n",
       "      <td>United Kingdom OX17</td>\n",
       "      <td>S</td>\n",
       "      <td>3018</td>\n",
       "      <td>Yesterday</td>\n",
       "      <td>Caymax SSE195</td>\n",
       "      <td>Enecsys SMI-S240W</td>\n",
       "      <td>4.7</td>\n",
       "      <td>52.07</td>\n",
       "      <td>-1.28</td>\n",
       "    </tr>\n",
       "  </tbody>\n",
       "</table>\n",
       "</div>"
      ],
      "text/plain": [
       "               system_name  system_size_watts             postcode  \\\n",
       "system_id                                                            \n",
       "61190         Banbury OX16               5600  United Kingdom OX16   \n",
       "62751          Banbury PW2               5600  United Kingdom OX16   \n",
       "38924      CotonMacy Solar               3900  United Kingdom OX16   \n",
       "23236             Tedsolar               3000  United Kingdom OX16   \n",
       "40100            100061786               3900  United Kingdom OX17   \n",
       "36566       CartwrightRoad               3900  United Kingdom OX17   \n",
       "\n",
       "          orientation  num_outputs    last_output               panel  \\\n",
       "system_id                                                               \n",
       "61190               S          338      Yesterday            SunPower   \n",
       "62751               S           83   26 weeks ago            Sunpower   \n",
       "38924               S         1467      Yesterday  LG LG300 N1C-B3 LG   \n",
       "23236              SE          691  206 weeks ago           Renesolar   \n",
       "40100               S           62  184 weeks ago       Caymax SSE195   \n",
       "36566               S         3018      Yesterday       Caymax SSE195   \n",
       "\n",
       "                    inverter  distance_km  latitude  longitude  \n",
       "system_id                                                       \n",
       "61190       SolarEdge 5K HD           1.0     52.06      -1.34  \n",
       "62751         Energy Monitor          1.0     52.06      -1.34  \n",
       "38924           Enphase m250          1.0     52.06      -1.34  \n",
       "23236         Samil SR3300tl          1.0     52.06      -1.34  \n",
       "40100      Enecsys SMI-S240W          4.7     52.07      -1.28  \n",
       "36566      Enecsys SMI-S240W          4.7     52.07      -1.28  "
      ]
     },
     "execution_count": 3,
     "metadata": {},
     "output_type": "execute_result"
    }
   ],
   "source": [
    "good_pv_systems = pv_systems.query('num_outputs > 50')\n",
    "good_pv_systems"
   ]
  },
  {
   "cell_type": "markdown",
   "metadata": {},
   "source": [
    "## Get system status (power generation)"
   ]
  },
  {
   "cell_type": "code",
   "execution_count": 4,
   "metadata": {},
   "outputs": [
    {
     "data": {
      "text/html": [
       "<div>\n",
       "<style scoped>\n",
       "    .dataframe tbody tr th:only-of-type {\n",
       "        vertical-align: middle;\n",
       "    }\n",
       "\n",
       "    .dataframe tbody tr th {\n",
       "        vertical-align: top;\n",
       "    }\n",
       "\n",
       "    .dataframe thead th {\n",
       "        text-align: right;\n",
       "    }\n",
       "</style>\n",
       "<table border=\"1\" class=\"dataframe\">\n",
       "  <thead>\n",
       "    <tr style=\"text-align: right;\">\n",
       "      <th></th>\n",
       "      <th>energy_generation_watt_hours</th>\n",
       "      <th>energy_efficiency_kWh_per_kW</th>\n",
       "      <th>inst_power_watt</th>\n",
       "      <th>average_power_watt</th>\n",
       "      <th>normalised_output</th>\n",
       "      <th>energy_consumption_watt_hours</th>\n",
       "      <th>power_consumption_watts</th>\n",
       "      <th>temperature_celsius</th>\n",
       "      <th>voltage</th>\n",
       "    </tr>\n",
       "  </thead>\n",
       "  <tbody>\n",
       "    <tr>\n",
       "      <th>count</th>\n",
       "      <td>196.000000</td>\n",
       "      <td>196.000000</td>\n",
       "      <td>196.000000</td>\n",
       "      <td>195.000000</td>\n",
       "      <td>195.000000</td>\n",
       "      <td>0.0</td>\n",
       "      <td>0.0</td>\n",
       "      <td>0.0</td>\n",
       "      <td>0.0</td>\n",
       "    </tr>\n",
       "    <tr>\n",
       "      <th>mean</th>\n",
       "      <td>6320.622449</td>\n",
       "      <td>1.620684</td>\n",
       "      <td>900.882653</td>\n",
       "      <td>905.476923</td>\n",
       "      <td>0.232195</td>\n",
       "      <td>NaN</td>\n",
       "      <td>NaN</td>\n",
       "      <td>NaN</td>\n",
       "      <td>NaN</td>\n",
       "    </tr>\n",
       "    <tr>\n",
       "      <th>std</th>\n",
       "      <td>5550.282705</td>\n",
       "      <td>1.423158</td>\n",
       "      <td>709.945756</td>\n",
       "      <td>709.131568</td>\n",
       "      <td>0.181844</td>\n",
       "      <td>NaN</td>\n",
       "      <td>NaN</td>\n",
       "      <td>NaN</td>\n",
       "      <td>NaN</td>\n",
       "    </tr>\n",
       "    <tr>\n",
       "      <th>min</th>\n",
       "      <td>0.000000</td>\n",
       "      <td>0.000000</td>\n",
       "      <td>0.000000</td>\n",
       "      <td>0.000000</td>\n",
       "      <td>0.000000</td>\n",
       "      <td>NaN</td>\n",
       "      <td>NaN</td>\n",
       "      <td>NaN</td>\n",
       "      <td>NaN</td>\n",
       "    </tr>\n",
       "    <tr>\n",
       "      <th>25%</th>\n",
       "      <td>847.000000</td>\n",
       "      <td>0.217250</td>\n",
       "      <td>229.250000</td>\n",
       "      <td>240.000000</td>\n",
       "      <td>0.062000</td>\n",
       "      <td>NaN</td>\n",
       "      <td>NaN</td>\n",
       "      <td>NaN</td>\n",
       "      <td>NaN</td>\n",
       "    </tr>\n",
       "    <tr>\n",
       "      <th>50%</th>\n",
       "      <td>4860.500000</td>\n",
       "      <td>1.246500</td>\n",
       "      <td>852.000000</td>\n",
       "      <td>864.000000</td>\n",
       "      <td>0.222000</td>\n",
       "      <td>NaN</td>\n",
       "      <td>NaN</td>\n",
       "      <td>NaN</td>\n",
       "      <td>NaN</td>\n",
       "    </tr>\n",
       "    <tr>\n",
       "      <th>75%</th>\n",
       "      <td>12096.500000</td>\n",
       "      <td>3.101750</td>\n",
       "      <td>1373.500000</td>\n",
       "      <td>1374.000000</td>\n",
       "      <td>0.352500</td>\n",
       "      <td>NaN</td>\n",
       "      <td>NaN</td>\n",
       "      <td>NaN</td>\n",
       "      <td>NaN</td>\n",
       "    </tr>\n",
       "    <tr>\n",
       "      <th>max</th>\n",
       "      <td>14714.000000</td>\n",
       "      <td>3.773000</td>\n",
       "      <td>2662.000000</td>\n",
       "      <td>2664.000000</td>\n",
       "      <td>0.683000</td>\n",
       "      <td>NaN</td>\n",
       "      <td>NaN</td>\n",
       "      <td>NaN</td>\n",
       "      <td>NaN</td>\n",
       "    </tr>\n",
       "  </tbody>\n",
       "</table>\n",
       "</div>"
      ],
      "text/plain": [
       "       energy_generation_watt_hours  energy_efficiency_kWh_per_kW  \\\n",
       "count                    196.000000                    196.000000   \n",
       "mean                    6320.622449                      1.620684   \n",
       "std                     5550.282705                      1.423158   \n",
       "min                        0.000000                      0.000000   \n",
       "25%                      847.000000                      0.217250   \n",
       "50%                     4860.500000                      1.246500   \n",
       "75%                    12096.500000                      3.101750   \n",
       "max                    14714.000000                      3.773000   \n",
       "\n",
       "       inst_power_watt  average_power_watt  normalised_output  \\\n",
       "count       196.000000          195.000000         195.000000   \n",
       "mean        900.882653          905.476923           0.232195   \n",
       "std         709.945756          709.131568           0.181844   \n",
       "min           0.000000            0.000000           0.000000   \n",
       "25%         229.250000          240.000000           0.062000   \n",
       "50%         852.000000          864.000000           0.222000   \n",
       "75%        1373.500000         1374.000000           0.352500   \n",
       "max        2662.000000         2664.000000           0.683000   \n",
       "\n",
       "       energy_consumption_watt_hours  power_consumption_watts  \\\n",
       "count                            0.0                      0.0   \n",
       "mean                             NaN                      NaN   \n",
       "std                              NaN                      NaN   \n",
       "min                              NaN                      NaN   \n",
       "25%                              NaN                      NaN   \n",
       "50%                              NaN                      NaN   \n",
       "75%                              NaN                      NaN   \n",
       "max                              NaN                      NaN   \n",
       "\n",
       "       temperature_celsius  voltage  \n",
       "count                  0.0      0.0  \n",
       "mean                   NaN      NaN  \n",
       "std                    NaN      NaN  \n",
       "min                    NaN      NaN  \n",
       "25%                    NaN      NaN  \n",
       "50%                    NaN      NaN  \n",
       "75%                    NaN      NaN  \n",
       "max                    NaN      NaN  "
      ]
     },
     "execution_count": 4,
     "metadata": {},
     "output_type": "execute_result"
    }
   ],
   "source": [
    "pv_system_id = 38924\n",
    "pv_system_status = get_pv_system_status(pv_system_id, date='20190715')\n",
    "pv_system_status.describe()"
   ]
  },
  {
   "cell_type": "code",
   "execution_count": 5,
   "metadata": {},
   "outputs": [
    {
     "data": {
      "text/html": [
       "<div>\n",
       "<style scoped>\n",
       "    .dataframe tbody tr th:only-of-type {\n",
       "        vertical-align: middle;\n",
       "    }\n",
       "\n",
       "    .dataframe tbody tr th {\n",
       "        vertical-align: top;\n",
       "    }\n",
       "\n",
       "    .dataframe thead th {\n",
       "        text-align: right;\n",
       "    }\n",
       "</style>\n",
       "<table border=\"1\" class=\"dataframe\">\n",
       "  <thead>\n",
       "    <tr style=\"text-align: right;\">\n",
       "      <th></th>\n",
       "      <th>energy_generation_watt_hours</th>\n",
       "      <th>energy_efficiency_kWh_per_kW</th>\n",
       "      <th>inst_power_watt</th>\n",
       "      <th>average_power_watt</th>\n",
       "      <th>normalised_output</th>\n",
       "      <th>energy_consumption_watt_hours</th>\n",
       "      <th>power_consumption_watts</th>\n",
       "      <th>temperature_celsius</th>\n",
       "      <th>voltage</th>\n",
       "    </tr>\n",
       "    <tr>\n",
       "      <th>datetime</th>\n",
       "      <th></th>\n",
       "      <th></th>\n",
       "      <th></th>\n",
       "      <th></th>\n",
       "      <th></th>\n",
       "      <th></th>\n",
       "      <th></th>\n",
       "      <th></th>\n",
       "      <th></th>\n",
       "    </tr>\n",
       "  </thead>\n",
       "  <tbody>\n",
       "    <tr>\n",
       "      <th>2019-07-15 21:20:00</th>\n",
       "      <td>14714</td>\n",
       "      <td>3.773</td>\n",
       "      <td>0</td>\n",
       "      <td>0.0</td>\n",
       "      <td>0.000</td>\n",
       "      <td>NaN</td>\n",
       "      <td>NaN</td>\n",
       "      <td>NaN</td>\n",
       "      <td>NaN</td>\n",
       "    </tr>\n",
       "    <tr>\n",
       "      <th>2019-07-15 21:15:00</th>\n",
       "      <td>14714</td>\n",
       "      <td>3.773</td>\n",
       "      <td>0</td>\n",
       "      <td>0.0</td>\n",
       "      <td>0.000</td>\n",
       "      <td>NaN</td>\n",
       "      <td>NaN</td>\n",
       "      <td>NaN</td>\n",
       "      <td>NaN</td>\n",
       "    </tr>\n",
       "    <tr>\n",
       "      <th>2019-07-15 21:10:00</th>\n",
       "      <td>14714</td>\n",
       "      <td>3.773</td>\n",
       "      <td>4</td>\n",
       "      <td>0.0</td>\n",
       "      <td>0.000</td>\n",
       "      <td>NaN</td>\n",
       "      <td>NaN</td>\n",
       "      <td>NaN</td>\n",
       "      <td>NaN</td>\n",
       "    </tr>\n",
       "    <tr>\n",
       "      <th>2019-07-15 21:05:00</th>\n",
       "      <td>14714</td>\n",
       "      <td>3.773</td>\n",
       "      <td>12</td>\n",
       "      <td>12.0</td>\n",
       "      <td>0.003</td>\n",
       "      <td>NaN</td>\n",
       "      <td>NaN</td>\n",
       "      <td>NaN</td>\n",
       "      <td>NaN</td>\n",
       "    </tr>\n",
       "    <tr>\n",
       "      <th>2019-07-15 21:00:00</th>\n",
       "      <td>14713</td>\n",
       "      <td>3.773</td>\n",
       "      <td>12</td>\n",
       "      <td>12.0</td>\n",
       "      <td>0.003</td>\n",
       "      <td>NaN</td>\n",
       "      <td>NaN</td>\n",
       "      <td>NaN</td>\n",
       "      <td>NaN</td>\n",
       "    </tr>\n",
       "  </tbody>\n",
       "</table>\n",
       "</div>"
      ],
      "text/plain": [
       "                     energy_generation_watt_hours  \\\n",
       "datetime                                            \n",
       "2019-07-15 21:20:00                         14714   \n",
       "2019-07-15 21:15:00                         14714   \n",
       "2019-07-15 21:10:00                         14714   \n",
       "2019-07-15 21:05:00                         14714   \n",
       "2019-07-15 21:00:00                         14713   \n",
       "\n",
       "                     energy_efficiency_kWh_per_kW  inst_power_watt  \\\n",
       "datetime                                                             \n",
       "2019-07-15 21:20:00                         3.773                0   \n",
       "2019-07-15 21:15:00                         3.773                0   \n",
       "2019-07-15 21:10:00                         3.773                4   \n",
       "2019-07-15 21:05:00                         3.773               12   \n",
       "2019-07-15 21:00:00                         3.773               12   \n",
       "\n",
       "                     average_power_watt  normalised_output  \\\n",
       "datetime                                                     \n",
       "2019-07-15 21:20:00                 0.0              0.000   \n",
       "2019-07-15 21:15:00                 0.0              0.000   \n",
       "2019-07-15 21:10:00                 0.0              0.000   \n",
       "2019-07-15 21:05:00                12.0              0.003   \n",
       "2019-07-15 21:00:00                12.0              0.003   \n",
       "\n",
       "                     energy_consumption_watt_hours  power_consumption_watts  \\\n",
       "datetime                                                                      \n",
       "2019-07-15 21:20:00                            NaN                      NaN   \n",
       "2019-07-15 21:15:00                            NaN                      NaN   \n",
       "2019-07-15 21:10:00                            NaN                      NaN   \n",
       "2019-07-15 21:05:00                            NaN                      NaN   \n",
       "2019-07-15 21:00:00                            NaN                      NaN   \n",
       "\n",
       "                     temperature_celsius  voltage  \n",
       "datetime                                           \n",
       "2019-07-15 21:20:00                  NaN      NaN  \n",
       "2019-07-15 21:15:00                  NaN      NaN  \n",
       "2019-07-15 21:10:00                  NaN      NaN  \n",
       "2019-07-15 21:05:00                  NaN      NaN  \n",
       "2019-07-15 21:00:00                  NaN      NaN  "
      ]
     },
     "execution_count": 5,
     "metadata": {},
     "output_type": "execute_result"
    }
   ],
   "source": [
    "pv_system_status.head()"
   ]
  },
  {
   "cell_type": "code",
   "execution_count": 7,
   "metadata": {},
   "outputs": [
    {
     "data": {
      "image/png": "[encoded data removed]",
      "text/plain": [
       "<Figure size 1440x432 with 1 Axes>"
      ]
     },
     "metadata": {
      "needs_background": "light"
     },
     "output_type": "display_data"
    }
   ],
   "source": [
    "ax = pv_system_status['inst_power_watt'].plot(figsize=(20, 6))\n",
    "ax.set_ylim((0, ax.get_ylim()[1]))\n",
    "ax.set_ylabel('watts')\n",
    "ax.set_title('Instantaneous PV power generation for system ID {}'.format(pv_system_id));"
   ]
  },
  {
   "cell_type": "markdown",
   "metadata": {},
   "source": [
    "## Get system metadata"
   ]
  },
  {
   "cell_type": "code",
   "execution_count": 8,
   "metadata": {},
   "outputs": [],
   "source": [
    "pv_metadata = get_pv_metadata(pv_system_id)"
   ]
  },
  {
   "cell_type": "code",
   "execution_count": 9,
   "metadata": {},
   "outputs": [
    {
     "data": {
      "text/plain": [
       "system_name                         CotonMacy Solar\n",
       "system_size_watts                              3900\n",
       "postcode                                       OX16\n",
       "number_of_panels                                 13\n",
       "panel_power_watts                               300\n",
       "panel_brand                      LG LG300 N1C-B3 LG\n",
       "num_inverters                                    13\n",
       "inverter_power_watts                            250\n",
       "inverter_brand                         Enphase m250\n",
       "orientation                                       S\n",
       "array_tilt_degrees                                1\n",
       "shade                                            No\n",
       "install_date                    2015-06-27 00:00:00\n",
       "latitude                                      52.06\n",
       "longitude                                     -1.34\n",
       "status_interval_minutes                           5\n",
       "number_of_panels_secondary                        0\n",
       "panel_power_watts_secondary                       0\n",
       "orientation_secondary                           NaN\n",
       "array_tilt_degrees_secondary                    NaN\n",
       "system_id                                     38924\n",
       "Name: 38924, dtype: object"
      ]
     },
     "execution_count": 9,
     "metadata": {},
     "output_type": "execute_result"
    }
   ],
   "source": [
    "pv_metadata"
   ]
  },
  {
   "cell_type": "markdown",
   "metadata": {},
   "source": [
    "# How many API requests?"
   ]
  },
  {
   "cell_type": "code",
   "execution_count": 190,
   "metadata": {},
   "outputs": [
    {
     "data": {
      "text/plain": [
       "912500"
      ]
     },
     "execution_count": 190,
     "metadata": {},
     "output_type": "execute_result"
    }
   ],
   "source": [
    "api_requests_per_system_per_year = 365\n",
    "number_of_pv_systems = 2500\n",
    "\n",
    "api_requests = number_of_pv_systems * api_requests_per_system_per_year\n",
    "api_requests"
   ]
  },
  {
   "cell_type": "code",
   "execution_count": 195,
   "metadata": {},
   "outputs": [
    {
     "data": {
      "text/plain": [
       "253.47222222222223"
      ]
     },
     "execution_count": 195,
     "metadata": {},
     "output_type": "execute_result"
    }
   ],
   "source": [
    "requests_per_hour = 3600  # 60 for donation mode; 900 if we pay $300; 3600 if we pay $900\n",
    "request_hours = api_requests / requests_per_hour\n",
    "request_hours"
   ]
  },
  {
   "cell_type": "code",
   "execution_count": 196,
   "metadata": {},
   "outputs": [
    {
     "data": {
      "text/plain": [
       "10.561342592592593"
      ]
     },
     "execution_count": 196,
     "metadata": {},
     "output_type": "execute_result"
    }
   ],
   "source": [
    "request_hours / 24"
   ]
  },
  {
   "cell_type": "markdown",
   "metadata": {},
   "source": [
    "Next steps:\n",
    "\n",
    "* Use search to get all systems in UK - take a look at commercial service\n",
    "* Find systems with more than ~50 data points, and update freq of hourly or better.\n",
    "\n",
    "* Load map of Britain\n",
    "* Create grid of 35km spacing throughout Britain\n",
    "* Mask this grid with map of Britain"
   ]
  },
  {
   "cell_type": "markdown",
   "metadata": {},
   "source": [
    "## Iterate through all grid points for the UK"
   ]
  },
  {
   "cell_type": "code",
   "execution_count": 6,
   "metadata": {},
   "outputs": [],
   "source": [
    "grid_points = pd.read_csv('~/dev/python/openclimatefix/solar/pvoutput/uk_grid_points.csv')"
   ]
  },
  {
   "cell_type": "code",
   "execution_count": 7,
   "metadata": {},
   "outputs": [
    {
     "data": {
      "text/html": [
       "<div>\n",
       "<style scoped>\n",
       "    .dataframe tbody tr th:only-of-type {\n",
       "        vertical-align: middle;\n",
       "    }\n",
       "\n",
       "    .dataframe tbody tr th {\n",
       "        vertical-align: top;\n",
       "    }\n",
       "\n",
       "    .dataframe thead th {\n",
       "        text-align: right;\n",
       "    }\n",
       "</style>\n",
       "<table border=\"1\" class=\"dataframe\">\n",
       "  <thead>\n",
       "    <tr style=\"text-align: right;\">\n",
       "      <th></th>\n",
       "      <th>lat</th>\n",
       "      <th>lon</th>\n",
       "    </tr>\n",
       "  </thead>\n",
       "  <tbody>\n",
       "    <tr>\n",
       "      <th>0</th>\n",
       "      <td>54.220244</td>\n",
       "      <td>-7.596602</td>\n",
       "    </tr>\n",
       "    <tr>\n",
       "      <th>1</th>\n",
       "      <td>54.536458</td>\n",
       "      <td>-7.639920</td>\n",
       "    </tr>\n",
       "    <tr>\n",
       "      <th>2</th>\n",
       "      <td>54.560672</td>\n",
       "      <td>-7.095755</td>\n",
       "    </tr>\n",
       "    <tr>\n",
       "      <th>3</th>\n",
       "      <td>54.877129</td>\n",
       "      <td>-7.135709</td>\n",
       "    </tr>\n",
       "    <tr>\n",
       "      <th>4</th>\n",
       "      <td>54.265699</td>\n",
       "      <td>-6.515791</td>\n",
       "    </tr>\n",
       "  </tbody>\n",
       "</table>\n",
       "</div>"
      ],
      "text/plain": [
       "         lat       lon\n",
       "0  54.220244 -7.596602\n",
       "1  54.536458 -7.639920\n",
       "2  54.560672 -7.095755\n",
       "3  54.877129 -7.135709\n",
       "4  54.265699 -6.515791"
      ]
     },
     "execution_count": 7,
     "metadata": {},
     "output_type": "execute_result"
    }
   ],
   "source": [
    "grid_points.head()"
   ]
  },
  {
   "cell_type": "code",
   "execution_count": 101,
   "metadata": {},
   "outputs": [
    {
     "name": "stdout",
     "output_type": "stream",
     "text": [
      "Starting at grid index 174\n",
      "174 51.47494813952369,-0.12478972629381975\n",
      "    Retrieved 30 pv systems\n",
      "175 51.79266552638864,-0.11163949268014194\n",
      "    Retrieved 30 pv systems\n",
      "176 52.1103632071148,-0.09824480347099612\n",
      "    Retrieved 30 pv systems\n",
      "177 52.42804116904989,-0.08459959634439516\n",
      "    Retrieved 30 pv systems\n",
      "178 52.74569939954007,-0.07069760134394333\n",
      "    Retrieved 30 pv systems\n",
      "179 53.06333788583235,-0.05653233199487032\n",
      "    Retrieved 20 pv systems\n",
      "180 53.38095661497202,-0.04209707595918685\n",
      "    Retrieved 21 pv systems\n",
      "181 53.69855557369453,-0.027384885201871455\n",
      "    Retrieved 21 pv systems\n",
      "182 50.830420609634324,0.3513441011351923\n",
      "    Retrieved 30 pv systems\n",
      "183 51.14807502985847,0.367455549495201\n",
      "    Retrieved 30 pv systems\n",
      "184 51.465708361664326,0.3838628334772237\n",
      "    Retrieved 30 pv systems\n",
      "185 51.78332055613128,0.4005731515068057\n",
      "    Retrieved 30 pv systems\n",
      "186 52.1009115633269,0.41759394436637975\n",
      "    Retrieved 30 pv systems\n",
      "187 52.418481332168504,0.4349329053765539\n",
      "    Retrieved 22 pv systems\n",
      "188 52.73602981027706,0.4525979910959346\n",
      "    Retrieved 20 pv systems\n",
      "189 51.13676012160042,0.8723166694216508\n",
      "    Retrieved 30 pv systems\n",
      "190 52.08920595173942,0.933114567752582\n",
      "    Retrieved 30 pv systems\n",
      "191 52.40664179113264,0.954139327962394\n",
      "    Retrieved 30 pv systems\n",
      "192 52.72405441185029,0.9755592753264378\n",
      "    Retrieved 30 pv systems\n",
      "193 52.07524991800027,1.4482496887686465\n",
      "    Retrieved 30 pv systems\n",
      "194 52.39252617324461,1.4729506185243355\n",
      "    Retrieved 24 pv systems\n",
      "195 52.70977691583083,1.4981154661222098\n",
      "    Retrieved 30 pv systems\n"
     ]
    }
   ],
   "source": [
    "pv_systems_filename = os.path.expanduser('~/dev/python/openclimatefix/solar/pvoutput/uk_pv_systems.csv')\n",
    "\n",
    "if os.path.exists(pv_systems_filename):\n",
    "    previously_read_grid_indicies = pd.read_csv(pv_systems_filename, usecols=['query_grid_index']).squeeze()\n",
    "    start_grid_index = previously_read_grid_indicies.max() + 1\n",
    "    header = False\n",
    "else:\n",
    "    start_grid_index = 0\n",
    "    header = True\n",
    "    \n",
    "print(\"Starting at grid index\", start_grid_index)\n",
    "                                         \n",
    "for index, row in grid_points.loc[start_grid_index:].iterrows():\n",
    "    lat_lon = '{},{}'.format(row.lat, row.lon)\n",
    "    print(index, lat_lon)\n",
    "    pv_systems = pv_system_search(query=\"25km\", lat_lon=lat_lon)\n",
    "    print(\"    Retrieved\", len(pv_systems), \"pv systems\")\n",
    "    pv_systems['query_latitude'] = row.lat\n",
    "    pv_systems['query_longitude'] = row.lon\n",
    "    pv_systems['query_grid_index'] = index\n",
    "    with open(pv_systems_filename, mode='a') as fh:\n",
    "        pv_systems.to_csv(fh, header=header)"
   ]
  },
  {
   "cell_type": "code",
   "execution_count": 109,
   "metadata": {},
   "outputs": [],
   "source": [
    "pv_systems = pd.read_csv(pv_systems_filename, index_col='system_id')"
   ]
  },
  {
   "cell_type": "code",
   "execution_count": 110,
   "metadata": {},
   "outputs": [
    {
     "data": {
      "text/html": [
       "<div>\n",
       "<style scoped>\n",
       "    .dataframe tbody tr th:only-of-type {\n",
       "        vertical-align: middle;\n",
       "    }\n",
       "\n",
       "    .dataframe tbody tr th {\n",
       "        vertical-align: top;\n",
       "    }\n",
       "\n",
       "    .dataframe thead th {\n",
       "        text-align: right;\n",
       "    }\n",
       "</style>\n",
       "<table border=\"1\" class=\"dataframe\">\n",
       "  <thead>\n",
       "    <tr style=\"text-align: right;\">\n",
       "      <th></th>\n",
       "      <th>system_name</th>\n",
       "      <th>system_size_watts</th>\n",
       "      <th>postcode</th>\n",
       "      <th>orientation</th>\n",
       "      <th>num_outputs</th>\n",
       "      <th>last_output</th>\n",
       "      <th>panel</th>\n",
       "      <th>inverter</th>\n",
       "      <th>distance_km</th>\n",
       "      <th>latitude</th>\n",
       "      <th>longitude</th>\n",
       "      <th>query_latitude</th>\n",
       "      <th>query_longitude</th>\n",
       "      <th>query_grid_index</th>\n",
       "    </tr>\n",
       "    <tr>\n",
       "      <th>system_id</th>\n",
       "      <th></th>\n",
       "      <th></th>\n",
       "      <th></th>\n",
       "      <th></th>\n",
       "      <th></th>\n",
       "      <th></th>\n",
       "      <th></th>\n",
       "      <th></th>\n",
       "      <th></th>\n",
       "      <th></th>\n",
       "      <th></th>\n",
       "      <th></th>\n",
       "      <th></th>\n",
       "      <th></th>\n",
       "    </tr>\n",
       "  </thead>\n",
       "  <tbody>\n",
       "    <tr>\n",
       "      <th>44994</th>\n",
       "      <td>Berghem Umeå</td>\n",
       "      <td>50</td>\n",
       "      <td>Sweden</td>\n",
       "      <td>N</td>\n",
       "      <td>0</td>\n",
       "      <td>No Outputs</td>\n",
       "      <td>NaN</td>\n",
       "      <td>Energy Monitor</td>\n",
       "      <td>3.7</td>\n",
       "      <td>51.508129</td>\n",
       "      <td>-0.128005</td>\n",
       "      <td>51.474948</td>\n",
       "      <td>-0.12479</td>\n",
       "      <td>174</td>\n",
       "    </tr>\n",
       "  </tbody>\n",
       "</table>\n",
       "</div>"
      ],
      "text/plain": [
       "            system_name  system_size_watts postcode orientation  num_outputs  \\\n",
       "system_id                                                                      \n",
       "44994      Berghem Umeå                 50   Sweden           N            0   \n",
       "\n",
       "          last_output panel        inverter  distance_km   latitude  \\\n",
       "system_id                                                             \n",
       "44994      No Outputs   NaN  Energy Monitor          3.7  51.508129   \n",
       "\n",
       "           longitude  query_latitude  query_longitude  query_grid_index  \n",
       "system_id                                                                \n",
       "44994      -0.128005       51.474948         -0.12479               174  "
      ]
     },
     "execution_count": 110,
     "metadata": {},
     "output_type": "execute_result"
    }
   ],
   "source": [
    "pv_systems.query('system_name == \"Berghem Umeå\"')"
   ]
  },
  {
   "cell_type": "code",
   "execution_count": 111,
   "metadata": {},
   "outputs": [
    {
     "data": {
      "text/plain": [
       "3379"
      ]
     },
     "execution_count": 111,
     "metadata": {},
     "output_type": "execute_result"
    }
   ],
   "source": [
    "len(pv_systems)"
   ]
  },
  {
   "cell_type": "code",
   "execution_count": 112,
   "metadata": {},
   "outputs": [
    {
     "data": {
      "text/plain": [
       "353"
      ]
     },
     "execution_count": 112,
     "metadata": {},
     "output_type": "execute_result"
    }
   ],
   "source": [
    "pv_systems.index.duplicated().sum()"
   ]
  },
  {
   "cell_type": "code",
   "execution_count": 129,
   "metadata": {},
   "outputs": [],
   "source": [
    "pv_systems_deduped = pv_systems.loc[~pv_systems.index.duplicated()]"
   ]
  },
  {
   "cell_type": "code",
   "execution_count": 130,
   "metadata": {},
   "outputs": [
    {
     "data": {
      "text/plain": [
       "3026"
      ]
     },
     "execution_count": 130,
     "metadata": {},
     "output_type": "execute_result"
    }
   ],
   "source": [
    "len(pv_systems_deduped)"
   ]
  },
  {
   "cell_type": "code",
   "execution_count": 146,
   "metadata": {},
   "outputs": [
    {
     "data": {
      "text/plain": [
       "1020"
      ]
     },
     "execution_count": 146,
     "metadata": {},
     "output_type": "execute_result"
    }
   ],
   "source": [
    "len(pv_systems_deduped.query('num_outputs > 288'))"
   ]
  },
  {
   "cell_type": "code",
   "execution_count": 113,
   "metadata": {},
   "outputs": [],
   "source": [
    "import geopandas as gpd"
   ]
  },
  {
   "cell_type": "code",
   "execution_count": 131,
   "metadata": {},
   "outputs": [],
   "source": [
    "pv_system_gdf = gpd.GeoDataFrame(\n",
    "    pv_systems_deduped,\n",
    "    geometry=gpd.points_from_xy(\n",
    "        pv_systems_deduped.longitude,\n",
    "        pv_systems_deduped.latitude\n",
    "    )\n",
    ")"
   ]
  },
  {
   "cell_type": "code",
   "execution_count": 132,
   "metadata": {},
   "outputs": [],
   "source": [
    "shapefile = os.path.expanduser('~/data/geospatial/GBR_adm0.shp')\n",
    "country = gpd.read_file(shapefile)\n",
    "# country.crs = {'init': WGS84_PROJECTION}"
   ]
  },
  {
   "cell_type": "code",
   "execution_count": 142,
   "metadata": {},
   "outputs": [
    {
     "data": {
      "text/plain": [
       "(-10, 2)"
      ]
     },
     "execution_count": 142,
     "metadata": {},
     "output_type": "execute_result"
    },
    {
     "data": {
      "image/png": "[encoded data removed]",
      "text/plain": [
       "<Figure size 1080x1080 with 1 Axes>"
      ]
     },
     "metadata": {
      "needs_background": "light"
     },
     "output_type": "display_data"
    }
   ],
   "source": [
    "ax = country.plot(alpha=0.2, figsize=(15, 15), color='white', edgecolor='black', linewidth=0.5);\n",
    "pv_system_gdf.query('num_outputs > 50').plot(ax=ax, alpha=0.7, markersize=2)\n",
    "ax.set_xlim((-10, 2))"
   ]
  },
  {
   "cell_type": "markdown",
   "metadata": {},
   "source": [
    "Next steps:\n",
    "* De-dupe\n",
    "* for any queries where we got 30 results, split that search area into smaller search areas and search again to get all pv systems.\n",
    "* select systems with > ~100 readings\n",
    "* pull metadata for these systems\n",
    "* download timeseries for systems with 5-minutely data. Maybe get, say, June's data\n"
   ]
  },
  {
   "cell_type": "code",
   "execution_count": 150,
   "metadata": {},
   "outputs": [],
   "source": [
    "num_results_per_query_grid_index = pv_systems.groupby('query_grid_index')['system_name'].count()"
   ]
  },
  {
   "cell_type": "code",
   "execution_count": 153,
   "metadata": {},
   "outputs": [],
   "source": [
    "query_grid_indexes_to_revisit = num_results_per_query_grid_index[num_results_per_query_grid_index == 30].index"
   ]
  },
  {
   "cell_type": "code",
   "execution_count": 154,
   "metadata": {},
   "outputs": [
    {
     "data": {
      "text/plain": [
       "Int64Index([ 10,  15,  22,  33,  43,  52,  55,  64,  73,  74,  75,  80,  86,\n",
       "             87,  93,  94,  95,  96,  99, 100, 101, 102, 115, 116, 117, 118,\n",
       "            119, 120, 121, 122, 123, 124, 133, 134, 135, 137, 138, 139, 140,\n",
       "            141, 142, 143, 145, 146, 148, 149, 150, 151, 152, 153, 154, 155,\n",
       "            156, 157, 161, 162, 163, 164, 165, 166, 167, 168, 169, 172, 173,\n",
       "            174, 175, 176, 177, 178, 182, 183, 184, 185, 186, 189, 190, 191,\n",
       "            192, 193, 195],\n",
       "           dtype='int64', name='query_grid_index')"
      ]
     },
     "execution_count": 154,
     "metadata": {},
     "output_type": "execute_result"
    }
   ],
   "source": [
    "query_grid_indexes_to_revisit"
   ]
  },
  {
   "cell_type": "markdown",
   "metadata": {},
   "source": [
    "## Check getstatistic"
   ]
  },
  {
   "cell_type": "code",
   "execution_count": 8,
   "metadata": {},
   "outputs": [],
   "source": [
    "pv_system_id = 24768"
   ]
  },
  {
   "cell_type": "code",
   "execution_count": 9,
   "metadata": {},
   "outputs": [
    {
     "data": {
      "text/plain": [
       "energy_generated_Wh                        307028801\n",
       "energy_exported_Wh                                 0\n",
       "average_generation_Wh                         688405\n",
       "minimum_generation_Wh                              0\n",
       "maximum_generation_Wh                        1713644\n",
       "average_efficiency_kWh_per_kW                  2.732\n",
       "outputs                                          446\n",
       "actual_date_from                 2013-07-26 00:00:00\n",
       "actual_date_to                   2014-10-14 00:00:00\n",
       "record_efficiency_kWh_per_kW                 34272.9\n",
       "record_efficiency_date           2014-05-03 00:00:00\n",
       "system_id                                      24768\n",
       "Name: 24768, dtype: object"
      ]
     },
     "execution_count": 9,
     "metadata": {},
     "output_type": "execute_result"
    }
   ],
   "source": [
    "pv_metadata = get_pv_statistic(pv_system_id, retries=0)\n",
    "pv_metadata"
   ]
  },
  {
   "cell_type": "code",
   "execution_count": 12,
   "metadata": {},
   "outputs": [
    {
     "data": {
      "text/html": [
       "<div>\n",
       "<style scoped>\n",
       "    .dataframe tbody tr th:only-of-type {\n",
       "        vertical-align: middle;\n",
       "    }\n",
       "\n",
       "    .dataframe tbody tr th {\n",
       "        vertical-align: top;\n",
       "    }\n",
       "\n",
       "    .dataframe thead th {\n",
       "        text-align: right;\n",
       "    }\n",
       "</style>\n",
       "<table border=\"1\" class=\"dataframe\">\n",
       "  <thead>\n",
       "    <tr style=\"text-align: right;\">\n",
       "      <th></th>\n",
       "      <th>energy_generated_Wh</th>\n",
       "      <th>energy_exported_Wh</th>\n",
       "      <th>average_generation_Wh</th>\n",
       "      <th>minimum_generation_Wh</th>\n",
       "      <th>maximum_generation_Wh</th>\n",
       "      <th>average_efficiency_kWh_per_kW</th>\n",
       "      <th>outputs</th>\n",
       "      <th>actual_date_from</th>\n",
       "      <th>actual_date_to</th>\n",
       "      <th>record_efficiency_kWh_per_kW</th>\n",
       "      <th>record_efficiency_date</th>\n",
       "    </tr>\n",
       "    <tr>\n",
       "      <th>system_id</th>\n",
       "      <th></th>\n",
       "      <th></th>\n",
       "      <th></th>\n",
       "      <th></th>\n",
       "      <th></th>\n",
       "      <th></th>\n",
       "      <th></th>\n",
       "      <th></th>\n",
       "      <th></th>\n",
       "      <th></th>\n",
       "      <th></th>\n",
       "    </tr>\n",
       "  </thead>\n",
       "  <tbody>\n",
       "    <tr>\n",
       "      <th>24768</th>\n",
       "      <td>307028801</td>\n",
       "      <td>0</td>\n",
       "      <td>688405</td>\n",
       "      <td>0</td>\n",
       "      <td>1713644</td>\n",
       "      <td>2.732</td>\n",
       "      <td>446</td>\n",
       "      <td>2013-07-26 00:00:00</td>\n",
       "      <td>2014-10-14 00:00:00</td>\n",
       "      <td>34272.9</td>\n",
       "      <td>2014-05-03 00:00:00</td>\n",
       "    </tr>\n",
       "  </tbody>\n",
       "</table>\n",
       "</div>"
      ],
      "text/plain": [
       "          energy_generated_Wh energy_exported_Wh average_generation_Wh  \\\n",
       "system_id                                                                \n",
       "24768               307028801                  0                688405   \n",
       "\n",
       "          minimum_generation_Wh maximum_generation_Wh  \\\n",
       "system_id                                               \n",
       "24768                         0               1713644   \n",
       "\n",
       "          average_efficiency_kWh_per_kW outputs     actual_date_from  \\\n",
       "system_id                                                              \n",
       "24768                             2.732     446  2013-07-26 00:00:00   \n",
       "\n",
       "                actual_date_to record_efficiency_kWh_per_kW  \\\n",
       "system_id                                                     \n",
       "24768      2014-10-14 00:00:00                      34272.9   \n",
       "\n",
       "          record_efficiency_date  \n",
       "system_id                         \n",
       "24768        2014-05-03 00:00:00  "
      ]
     },
     "execution_count": 12,
     "metadata": {},
     "output_type": "execute_result"
    }
   ],
   "source": [
    "pv_metadata.to_frame().T.set_index('system_id')"
   ]
  },
  {
   "cell_type": "code",
   "execution_count": 4,
   "metadata": {},
   "outputs": [],
   "source": [
    "from datetime import datetime"
   ]
  },
  {
   "cell_type": "code",
   "execution_count": 5,
   "metadata": {},
   "outputs": [
    {
     "data": {
      "text/plain": [
       "datetime.datetime(2019, 7, 23, 10, 0)"
      ]
     },
     "execution_count": 5,
     "metadata": {},
     "output_type": "execute_result"
    }
   ],
   "source": [
    "datetime.utcfromtimestamp(1563876000)"
   ]
  },
  {
   "cell_type": "code",
   "execution_count": null,
   "metadata": {},
   "outputs": [],
   "source": []
  }
 ],
 "metadata": {
  "kernelspec": {
   "display_name": "Python 3",
   "language": "python",
   "name": "python3"
  },
  "language_info": {
   "codemirror_mode": {
    "name": "ipython",
    "version": 3
   },
   "file_extension": ".py",
   "mimetype": "text/x-python",
   "name": "python",
   "nbconvert_exporter": "python",
   "pygments_lexer": "ipython3",
   "version": "3.7.3"
  }
 },
 "nbformat": 4,
 "nbformat_minor": 4
}
