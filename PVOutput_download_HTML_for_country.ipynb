{
 "cells": [
  {
   "cell_type": "code",
   "execution_count": 165,
   "metadata": {},
   "outputs": [],
   "source": [
    "import os\n",
    "import requests\n",
    "from bs4 import BeautifulSoup"
   ]
  },
  {
   "cell_type": "markdown",
   "metadata": {},
   "source": [
    "Just download all the (ranked) listings for a given country.\n",
    "\n",
    "It looks like this returns a maximum of 128 pages (each 20 PV systems), for a total of 128 x 20 = 2560 systems.  But that's OK, because the list is ranked, so we should get the most important PV systems."
   ]
  },
  {
   "cell_type": "code",
   "execution_count": 190,
   "metadata": {},
   "outputs": [],
   "source": [
    "COUNTRY_CODES = {'UK': 243}\n",
    "COUNTRY = 'UK'\n",
    "BASE_URL = 'https://pvoutput.org/map.jsp'\n",
    "DEST_PATH = '/home/jack/data/pvoutput.org/raw'"
   ]
  },
  {
   "cell_type": "code",
   "execution_count": 192,
   "metadata": {},
   "outputs": [
    {
     "name": "stdout",
     "output_type": "stream",
     "text": [
      " 127"
     ]
    }
   ],
   "source": [
    "country_code = COUNTRY_CODES[COUNTRY]\n",
    "\n",
    "def get_html(page):\n",
    "    query_string = 'p={p}&country={country_code}'.format(p=page, country_code=country_code)\n",
    "    url = BASE_URL + '?' + query_string\n",
    "    return requests.get(url)\n",
    "\n",
    "\n",
    "def save_response_to_disk(response, page):\n",
    "    filename = os.path.join(DEST_PATH, 'pvoutput_{}_page_{:03d}.html'.format(COUNTRY, page))\n",
    "    with open(filename, mode='w') as fh:\n",
    "        fh.write(response.text)\n",
    "\n",
    "def page_has_next_link(response):\n",
    "    soup = BeautifulSoup(response.text, 'html.parser')\n",
    "    return bool(soup.find_all('a', text='Next'))\n",
    "\n",
    "\n",
    "page = 6\n",
    "while True:\n",
    "    print('\\r', page, end='', flush=True)\n",
    "    response = get_html(page=page)\n",
    "    save_response_to_disk(response, page=page)\n",
    "    if not page_has_next_link(response):\n",
    "        break\n",
    "    page += 1"
   ]
  },
  {
   "cell_type": "code",
   "execution_count": null,
   "metadata": {},
   "outputs": [],
   "source": []
  }
 ],
 "metadata": {
  "kernelspec": {
   "display_name": "Python 3",
   "language": "python",
   "name": "python3"
  },
  "language_info": {
   "codemirror_mode": {
    "name": "ipython",
    "version": 3
   },
   "file_extension": ".py",
   "mimetype": "text/x-python",
   "name": "python",
   "nbconvert_exporter": "python",
   "pygments_lexer": "ipython3",
   "version": "3.7.3"
  }
 },
 "nbformat": 4,
 "nbformat_minor": 2
}
