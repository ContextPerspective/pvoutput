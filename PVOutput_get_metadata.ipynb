{
 "cells": [
  {
   "cell_type": "code",
   "execution_count": 51,
   "metadata": {},
   "outputs": [],
   "source": [
    "import os\n",
    "import pandas as pd\n",
    "import time\n",
    "from datetime import datetime\n",
    "from pvoutput import *"
   ]
  },
  {
   "cell_type": "code",
   "execution_count": 23,
   "metadata": {},
   "outputs": [],
   "source": [
    "INPUT_PV_LIST_FILENAME = '/home/jack/data/pvoutput.org/processed/UK_PV_listing_metadata.hdf'\n",
    "OUTPUT_METADATA_FILENAME = '/home/jack/data/pvoutput.org/processed/UK_PV_metadata.csv'"
   ]
  },
  {
   "cell_type": "code",
   "execution_count": 2,
   "metadata": {},
   "outputs": [],
   "source": [
    "pv_systems = pd.read_hdf(INPUT_PV_LIST_FILENAME, 'metadata')"
   ]
  },
  {
   "cell_type": "code",
   "execution_count": 42,
   "metadata": {},
   "outputs": [
    {
     "data": {
      "text/html": [
       "<div>\n",
       "<style scoped>\n",
       "    .dataframe tbody tr th:only-of-type {\n",
       "        vertical-align: middle;\n",
       "    }\n",
       "\n",
       "    .dataframe tbody tr th {\n",
       "        vertical-align: top;\n",
       "    }\n",
       "\n",
       "    .dataframe thead th {\n",
       "        text-align: right;\n",
       "    }\n",
       "</style>\n",
       "<table border=\"1\" class=\"dataframe\">\n",
       "  <thead>\n",
       "    <tr style=\"text-align: right;\">\n",
       "      <th></th>\n",
       "      <th>Array Tilt</th>\n",
       "      <th>Inverter</th>\n",
       "      <th>Location</th>\n",
       "      <th>Orientation</th>\n",
       "      <th>Panels</th>\n",
       "      <th>Shade</th>\n",
       "      <th>system_capacity</th>\n",
       "      <th>system_name</th>\n",
       "      <th>Outputs</th>\n",
       "      <th>Generation</th>\n",
       "      <th>Average</th>\n",
       "      <th>Efficiency</th>\n",
       "      <th>system_capacity_kw</th>\n",
       "      <th>efficiency_kWh_per_kW</th>\n",
       "      <th>system_1_tilt_degrees</th>\n",
       "      <th>system_2_tilt_degrees</th>\n",
       "    </tr>\n",
       "    <tr>\n",
       "      <th>system_id</th>\n",
       "      <th></th>\n",
       "      <th></th>\n",
       "      <th></th>\n",
       "      <th></th>\n",
       "      <th></th>\n",
       "      <th></th>\n",
       "      <th></th>\n",
       "      <th></th>\n",
       "      <th></th>\n",
       "      <th></th>\n",
       "      <th></th>\n",
       "      <th></th>\n",
       "      <th></th>\n",
       "      <th></th>\n",
       "      <th></th>\n",
       "      <th></th>\n",
       "    </tr>\n",
       "  </thead>\n",
       "  <tbody>\n",
       "    <tr>\n",
       "      <th>26965</th>\n",
       "      <td>11.0°</td>\n",
       "      <td>Enphase M215</td>\n",
       "      <td>United Kingdom CV47</td>\n",
       "      <td>South 0.0°</td>\n",
       "      <td>336x250W Q Cells Pro-G3 250</td>\n",
       "      <td>Low</td>\n",
       "      <td>84.000kW</td>\n",
       "      <td>mfl_phc</td>\n",
       "      <td>1813 days</td>\n",
       "      <td>399.238MWh</td>\n",
       "      <td>220.208kWh</td>\n",
       "      <td>2.654kWh/kW</td>\n",
       "      <td>84.00</td>\n",
       "      <td>2.654</td>\n",
       "      <td>11.0</td>\n",
       "      <td>NaN</td>\n",
       "    </tr>\n",
       "    <tr>\n",
       "      <th>24768</th>\n",
       "      <td>NaN</td>\n",
       "      <td>aurora trio</td>\n",
       "      <td>United Kingdom OX7</td>\n",
       "      <td>South 180.0°</td>\n",
       "      <td>1050x240W qidong</td>\n",
       "      <td>No</td>\n",
       "      <td>252.000kW</td>\n",
       "      <td>mfl_qfa</td>\n",
       "      <td>446 days</td>\n",
       "      <td>307.029MWh</td>\n",
       "      <td>688.405kWh</td>\n",
       "      <td>2.732kWh/kW</td>\n",
       "      <td>252.00</td>\n",
       "      <td>2.732</td>\n",
       "      <td>NaN</td>\n",
       "      <td>NaN</td>\n",
       "    </tr>\n",
       "    <tr>\n",
       "      <th>11542</th>\n",
       "      <td>15.0°</td>\n",
       "      <td>SMA TRI-Power 1700 TL</td>\n",
       "      <td>United Kingdom PE11</td>\n",
       "      <td>South 180.0°</td>\n",
       "      <td>200x250W Emmvee ES 230 M60 B</td>\n",
       "      <td>No</td>\n",
       "      <td>50.000kW</td>\n",
       "      <td>Wray Farms Solar System</td>\n",
       "      <td>2437 days</td>\n",
       "      <td>293.684MWh</td>\n",
       "      <td>120.510kWh</td>\n",
       "      <td>2.477kWh/kW</td>\n",
       "      <td>50.00</td>\n",
       "      <td>2.477</td>\n",
       "      <td>15.0</td>\n",
       "      <td>NaN</td>\n",
       "    </tr>\n",
       "    <tr>\n",
       "      <th>66991</th>\n",
       "      <td>40.0°</td>\n",
       "      <td>Unknown</td>\n",
       "      <td>United Kingdom HR8</td>\n",
       "      <td>South 180.0° / South West 225.0°</td>\n",
       "      <td>152x325W + 80x325W Unknown</td>\n",
       "      <td>No</td>\n",
       "      <td>75.400kW</td>\n",
       "      <td>Ledbury Community Hospital</td>\n",
       "      <td>1434 days</td>\n",
       "      <td>279.902MWh</td>\n",
       "      <td>195.190kWh</td>\n",
       "      <td>2.603kWh/kW</td>\n",
       "      <td>75.40</td>\n",
       "      <td>2.603</td>\n",
       "      <td>40.0</td>\n",
       "      <td>NaN</td>\n",
       "    </tr>\n",
       "    <tr>\n",
       "      <th>5116</th>\n",
       "      <td>15.0°</td>\n",
       "      <td>Fronius CL36; Datamanager 2.0</td>\n",
       "      <td>United Kingdom OX7</td>\n",
       "      <td>South 180.0°</td>\n",
       "      <td>182x235W Q.Base-G2 235</td>\n",
       "      <td>No</td>\n",
       "      <td>42.770kW</td>\n",
       "      <td>mfl_scf</td>\n",
       "      <td>2538 days</td>\n",
       "      <td>267.470MWh</td>\n",
       "      <td>105.386kWh</td>\n",
       "      <td>2.493kWh/kW</td>\n",
       "      <td>42.77</td>\n",
       "      <td>2.493</td>\n",
       "      <td>15.0</td>\n",
       "      <td>NaN</td>\n",
       "    </tr>\n",
       "  </tbody>\n",
       "</table>\n",
       "</div>"
      ],
      "text/plain": [
       "          Array Tilt                       Inverter             Location  \\\n",
       "system_id                                                                  \n",
       "26965          11.0°                   Enphase M215  United Kingdom CV47   \n",
       "24768            NaN                    aurora trio   United Kingdom OX7   \n",
       "11542          15.0°          SMA TRI-Power 1700 TL  United Kingdom PE11   \n",
       "66991          40.0°                        Unknown   United Kingdom HR8   \n",
       "5116           15.0°  Fronius CL36; Datamanager 2.0   United Kingdom OX7   \n",
       "\n",
       "                                Orientation                        Panels  \\\n",
       "system_id                                                                   \n",
       "26965                            South 0.0°   336x250W Q Cells Pro-G3 250   \n",
       "24768                          South 180.0°              1050x240W qidong   \n",
       "11542                          South 180.0°  200x250W Emmvee ES 230 M60 B   \n",
       "66991      South 180.0° / South West 225.0°    152x325W + 80x325W Unknown   \n",
       "5116                           South 180.0°        182x235W Q.Base-G2 235   \n",
       "\n",
       "          Shade system_capacity                 system_name   Outputs  \\\n",
       "system_id                                                               \n",
       "26965       Low        84.000kW                     mfl_phc 1813 days   \n",
       "24768        No       252.000kW                     mfl_qfa  446 days   \n",
       "11542        No        50.000kW     Wray Farms Solar System 2437 days   \n",
       "66991        No        75.400kW  Ledbury Community Hospital 1434 days   \n",
       "5116         No        42.770kW                     mfl_scf 2538 days   \n",
       "\n",
       "           Generation     Average   Efficiency  system_capacity_kw  \\\n",
       "system_id                                                            \n",
       "26965      399.238MWh  220.208kWh  2.654kWh/kW               84.00   \n",
       "24768      307.029MWh  688.405kWh  2.732kWh/kW              252.00   \n",
       "11542      293.684MWh  120.510kWh  2.477kWh/kW               50.00   \n",
       "66991      279.902MWh  195.190kWh  2.603kWh/kW               75.40   \n",
       "5116       267.470MWh  105.386kWh  2.493kWh/kW               42.77   \n",
       "\n",
       "           efficiency_kWh_per_kW  system_1_tilt_degrees  system_2_tilt_degrees  \n",
       "system_id                                                                       \n",
       "26965                      2.654                   11.0                    NaN  \n",
       "24768                      2.732                    NaN                    NaN  \n",
       "11542                      2.477                   15.0                    NaN  \n",
       "66991                      2.603                   40.0                    NaN  \n",
       "5116                       2.493                   15.0                    NaN  "
      ]
     },
     "execution_count": 42,
     "metadata": {},
     "output_type": "execute_result"
    }
   ],
   "source": [
    "pv_systems.head()"
   ]
  },
  {
   "cell_type": "code",
   "execution_count": 68,
   "metadata": {},
   "outputs": [],
   "source": [
    "# Get list of systems we got from the PVOutput.org API search\n",
    "pv_sys_api_search = pd.read_csv(\n",
    "    '/home/jack/data/pvoutput.org/raw/uk_pv_systems.csv',\n",
    "    index_col='system_id',\n",
    "    usecols=['system_id'])"
   ]
  },
  {
   "cell_type": "code",
   "execution_count": 69,
   "metadata": {},
   "outputs": [
    {
     "name": "stdout",
     "output_type": "stream",
     "text": [
      "2559 systems already processed.\n"
     ]
    }
   ],
   "source": [
    "if os.path.exists(OUTPUT_METADATA_FILENAME):\n",
    "    output_metadata = pd.read_csv(OUTPUT_METADATA_FILENAME, index_col='system_id', usecols=['system_id'])\n",
    "    systems_already_processed = output_metadata.index\n",
    "    header = False\n",
    "else:\n",
    "    systems_already_processed = []\n",
    "    header = True\n",
    "    \n",
    "print(len(systems_already_processed), 'systems already processed.')"
   ]
  },
  {
   "cell_type": "code",
   "execution_count": 73,
   "metadata": {},
   "outputs": [
    {
     "name": "stdout",
     "output_type": "stream",
     "text": [
      "1471 PV systems left to process.\n"
     ]
    }
   ],
   "source": [
    "pv_systems_to_process = list(\n",
    "    (set(pv_systems.index).union(pv_sys_api_search.index)) - \n",
    "    set(systems_already_processed))\n",
    "print(len(pv_systems_to_process), 'PV systems left to process.')"
   ]
  },
  {
   "cell_type": "code",
   "execution_count": 67,
   "metadata": {},
   "outputs": [
    {
     "name": "stdout",
     "output_type": "stream",
     "text": [
      "    0 of 1971 | ID = 26572\n",
      "Bad status code returned: 403, Forbidden 403: Exceeded 300 requests per hour\n",
      "Waiting 54 minutes...\n",
      "Done waiting!  Retrying...\n",
      "  300 of 1971 | ID = 3074\n",
      "Bad status code returned: 403, Forbidden 403: Exceeded 300 requests per hour\n",
      "Waiting 56 minutes...\n",
      "Done waiting!  Retrying...\n",
      "  600 of 1971 | ID = 4185\n",
      "Bad status code returned: 403, Forbidden 403: Exceeded 300 requests per hour\n",
      "Waiting 57 minutes...\n",
      "Done waiting!  Retrying...\n",
      "  900 of 1971 | ID = 37689\n",
      "Bad status code returned: 403, Forbidden 403: Exceeded 300 requests per hour\n",
      "Waiting 56 minutes...\n",
      "Done waiting!  Retrying...\n",
      " 1200 of 1971 | ID = 30248\n",
      "Bad status code returned: 403, Forbidden 403: Exceeded 300 requests per hour\n",
      "Waiting 57 minutes...\n",
      "Done waiting!  Retrying...\n",
      " 1500 of 1971 | ID = 6555\n",
      "Bad status code returned: 403, Forbidden 403: Exceeded 300 requests per hour\n",
      "Waiting 56 minutes...\n",
      "Done waiting!  Retrying...\n",
      " 1800 of 1971 | ID = 40277\n",
      "Bad status code returned: 403, Forbidden 403: Exceeded 300 requests per hour\n",
      "Waiting 57 minutes...\n",
      "Done waiting!  Retrying...\n",
      " 1970 of 1971 | ID = 57336"
     ]
    }
   ],
   "source": [
    "n = len(pv_systems_to_process)\n",
    "for i, pv_system_id in enumerate(pv_systems_to_process):\n",
    "    print('\\r', '{:>4d}'.format(i), 'of', n, '| ID =', pv_system_id, end='', flush=True)\n",
    "    pv_metadata = get_pv_metadata(pv_system_id).to_frame().T.set_index('system_id')\n",
    "    pv_metadata.to_csv(\n",
    "        OUTPUT_METADATA_FILENAME,\n",
    "        mode='a',\n",
    "        header=header)\n",
    "    header = False"
   ]
  },
  {
   "cell_type": "code",
   "execution_count": 95,
   "metadata": {},
   "outputs": [
    {
     "name": "stdout",
     "output_type": "stream",
     "text": [
      "system_id,system_name,system_size_watts,postcode,number_of_panels,panel_power_watts,panel_brand,num_inverters,inverter_power_watts,inverter_brand,orientation,array_tilt_degrees,shade,install_date,latitude,longitude,status_interval_minutes,number_of_panels_secondary,panel_power_watts_secondary,orientation_secondary,array_tilt_degrees_secondary\n",
      "19397,AndyT's,3900,BS22,20,195,ZN Shine 195w,1,3500,Kaco 4202,S,30.0,No,2011-11-21 00:00:00,51.36,-2.92,5,0,0,,\n",
      "8195,Kilmarnock Roof,3750,KA3,15,250,Sanyo 250 HIT,1,4000,Omniksol,S,30.0,No,2011-11-07 00:00:00,55.64,-4.49,10,0,0,,\n",
      "8200,Flat 5,3430,E8,14,245,,1,3000,sb3000,S,25.0,Low,2011-12-12 00:00:00,51.54,-0.06,5,0,0,,\n",
      "8204,Sooper-Dooper Solar,2940,GU2,12,245,SunTech STP245S-20/Wd,1,3000,Kaco Powador 3002,S,19.0,No,2012-05-11 00:00:00,51.24,-0.59,10,0,0,,\n",
      "8205,58GPR,4000,BS48,16,250,Sanyo component Europe GmbH,1,50,Sma sunny boysb3800v,S,,No,2011-11-10 00:00:00,51.42,-2.74,10,0,0,,\n",
      "32783,olaf-UK,3780,B92,14,270,canadian solar CS6P-270MM,1,3600,SMA Sunny Boy 3600TL,S,25.0,No,2014-10-15 00:00:00,52.43,-1.77,5,0,0,,\n",
      "8208,48 St Saviours,4000,PR5,16,250,Sharp,1,4000,SMA,SW,35.0,No,2012-02-21 00:00:00,53.73,-2.65,10,0,0,,\n",
      "40978,Sma 2Kw,2000,CF31,8,250,Hyundai,1,2000,Sma 2000HF,S,30.0,No,2011-12-01 00:00:00,51.5,-3.57,5,0,0,,\n",
      "24599,LongfellowPV,3750,MK16,15,250,Yingli YL250C-30b,1,3600,Fronius IG TL 3.6,SW,30.0,Low,2013-05-28 00:00:00,52.083376,-0.729613,5,0,0,,\n"
     ]
    }
   ],
   "source": [
    "!head $OUTPUT_METADATA_FILENAME"
   ]
  }
 ],
 "metadata": {
  "kernelspec": {
   "display_name": "Python 3",
   "language": "python",
   "name": "python3"
  },
  "language_info": {
   "codemirror_mode": {
    "name": "ipython",
    "version": 3
   },
   "file_extension": ".py",
   "mimetype": "text/x-python",
   "name": "python",
   "nbconvert_exporter": "python",
   "pygments_lexer": "ipython3",
   "version": "3.7.3"
  }
 },
 "nbformat": 4,
 "nbformat_minor": 2
}
